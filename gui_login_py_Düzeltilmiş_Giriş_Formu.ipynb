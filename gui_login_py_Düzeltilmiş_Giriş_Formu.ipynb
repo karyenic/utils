{
  "cells": [
    {
      "cell_type": "markdown",
      "metadata": {
        "id": "view-in-github",
        "colab_type": "text"
      },
      "source": [
        "<a href=\"https://colab.research.google.com/github/karyenic/utils/blob/main/gui_login_py_D%C3%BCzeltilmi%C5%9F_Giri%C5%9F_Formu.ipynb\" target=\"_parent\"><img src=\"https://colab.research.google.com/assets/colab-badge.svg\" alt=\"Open In Colab\"/></a>"
      ]
    },
    {
      "cell_type": "code",
      "source": [
        "import tkinter as tk\n",
        "from tkinter import messagebox, ttk\n",
        "from getpass import getpass\n",
        "from gelistirmeler import GelistirilmisMuhasebeDB\n",
        "from utils import center_window\n",
        "from gui_main_menu import MainMenuFormu # Düzeltildi\n",
        "\n",
        "class LoginFormu:\n",
        "    def __init__(self, root, db_adi):\n",
        "        self.root = root\n",
        "        self.db = GelistirilmisMuhasebeDB(db_adi)\n",
        "        self.root.title(\"Giriş\")\n",
        "        self.root.geometry(\"400x300\")\n",
        "        self.root.resizable(False, False)\n",
        "        center_window(self.root, 400, 300)\n",
        "\n",
        "        self._create_widgets()\n",
        "        self._load_firmalar()\n",
        "\n",
        "    def _create_widgets(self):\n",
        "        main_frame = tk.Frame(self.root, bd=5, relief=\"raised\", bg=\"#e0e0e0\")\n",
        "        main_frame.pack(padx=20, pady=20, fill=\"both\", expand=True)\n",
        "\n",
        "        tk.Label(main_frame, text=\"Firma Seçimi ve Giriş\", font=(\"Arial\", 16, \"bold\"), bg=\"#e0e0e0\").pack(pady=10)\n",
        "\n",
        "        firma_frame = tk.Frame(main_frame, bg=\"#e0e0e0\")\n",
        "        firma_frame.pack(pady=5, fill=\"x\")\n",
        "\n",
        "        tk.Label(firma_frame, text=\"Firma:\", bg=\"#e0e0e0\").pack(side=\"left\", padx=5)\n",
        "        self.firma_combobox = ttk.Combobox(firma_frame, state=\"readonly\")\n",
        "        self.firma_combobox.pack(side=\"left\", fill=\"x\", expand=True, padx=5)\n",
        "\n",
        "        firma_ekle_frame = tk.Frame(main_frame, bg=\"#e0e0e0\")\n",
        "        firma_ekle_frame.pack(pady=5, fill=\"x\")\n",
        "\n",
        "        self.yeni_firma_entry = tk.Entry(firma_ekle_frame, bd=2, relief=\"sunken\")\n",
        "        self.yeni_firma_entry.pack(side=\"left\", fill=\"x\", expand=True, padx=5)\n",
        "        ttk.Button(firma_ekle_frame, text=\"Yeni Firma Ekle\", command=self.firma_ekle).pack(side=\"left\", padx=5)\n",
        "\n",
        "        ttk.Separator(main_frame, orient=\"horizontal\").pack(fill=\"x\", pady=10)\n",
        "\n",
        "        giris_button = tk.Button(main_frame, text=\"Giriş Yap\", command=self.giris_yap, bg=\"#4CAF50\", fg=\"white\", font=(\"Arial\", 12, \"bold\"))\n",
        "        giris_button.pack(pady=10)\n",
        "\n",
        "    def _load_firmalar(self):\n",
        "        firmalar = self.db.firma_listele()\n",
        "        self.firma_combobox['values'] = [firma[1] for firma in firmalar]\n",
        "        if firmalar:\n",
        "            self.firma_combobox.current(0)\n",
        "\n",
        "    def firma_ekle(self):\n",
        "        firma_adi = self.yeni_firma_entry.get().strip()\n",
        "        if firma_adi:\n",
        "            firma_id = self.db.firma_ekle(firma_adi)\n",
        "            if firma_id:\n",
        "                messagebox.showinfo(\"Başarılı\", f\"'{firma_adi}' firması başarıyla eklendi.\")\n",
        "                self.yeni_firma_entry.delete(0, tk.END)\n",
        "                self._load_firmalar()\n",
        "            else:\n",
        "                messagebox.showerror(\"Hata\", f\"'{firma_adi}' firması zaten mevcut.\")\n",
        "        else:\n",
        "            messagebox.showwarning(\"Uyarı\", \"Lütfen bir firma adı girin.\")\n",
        "\n",
        "    def giris_yap(self):\n",
        "        secilen_firma_adi = self.firma_combobox.get()\n",
        "        if not secilen_firma_adi:\n",
        "            messagebox.showerror(\"Hata\", \"Lütfen bir firma seçin.\")\n",
        "            return\n",
        "\n",
        "        secilen_firma = self.db.firma_getir_by_adi(secilen_firma_adi)\n",
        "        if secilen_firma:\n",
        "            self.root.destroy()\n",
        "            self.ana_menu_ac(secilen_firma[0], secilen_firma[1])\n",
        "        else:\n",
        "            messagebox.showerror(\"Hata\", \"Seçilen firma bulunamadı.\")\n",
        "\n",
        "    def ana_menu_ac(self, firma_id, firma_adi):\n",
        "        ana_menu_root = tk.Tk()\n",
        "        MainMenuFormu(ana_menu_root, self.db, firma_id, firma_adi) # Düzeltildi\n",
        "        ana_menu_root.mainloop()\n",
        "\n",
        "if __name__ == \"__main__\":\n",
        "    app_root = tk.Tk()\n",
        "    LoginFormu(app_root, \"muhasebe.db\")\n",
        "    app_root.mainloop()"
      ],
      "outputs": [
        {
          "output_type": "error",
          "ename": "ModuleNotFoundError",
          "evalue": "No module named 'gelistirmeler'",
          "traceback": [
            "\u001b[0;31m---------------------------------------------------------------------------\u001b[0m",
            "\u001b[0;31mModuleNotFoundError\u001b[0m                       Traceback (most recent call last)",
            "\u001b[0;32m/tmp/ipython-input-3396853092.py\u001b[0m in \u001b[0;36m<cell line: 0>\u001b[0;34m()\u001b[0m\n\u001b[1;32m      2\u001b[0m \u001b[0;32mfrom\u001b[0m \u001b[0mtkinter\u001b[0m \u001b[0;32mimport\u001b[0m \u001b[0mmessagebox\u001b[0m\u001b[0;34m,\u001b[0m \u001b[0mttk\u001b[0m\u001b[0;34m\u001b[0m\u001b[0;34m\u001b[0m\u001b[0m\n\u001b[1;32m      3\u001b[0m \u001b[0;32mfrom\u001b[0m \u001b[0mgetpass\u001b[0m \u001b[0;32mimport\u001b[0m \u001b[0mgetpass\u001b[0m\u001b[0;34m\u001b[0m\u001b[0;34m\u001b[0m\u001b[0m\n\u001b[0;32m----> 4\u001b[0;31m \u001b[0;32mfrom\u001b[0m \u001b[0mgelistirmeler\u001b[0m \u001b[0;32mimport\u001b[0m \u001b[0mGelistirilmisMuhasebeDB\u001b[0m\u001b[0;34m\u001b[0m\u001b[0;34m\u001b[0m\u001b[0m\n\u001b[0m\u001b[1;32m      5\u001b[0m \u001b[0;32mfrom\u001b[0m \u001b[0mutils\u001b[0m \u001b[0;32mimport\u001b[0m \u001b[0mcenter_window\u001b[0m\u001b[0;34m\u001b[0m\u001b[0;34m\u001b[0m\u001b[0m\n\u001b[1;32m      6\u001b[0m \u001b[0;32mfrom\u001b[0m \u001b[0mgui_main_menu\u001b[0m \u001b[0;32mimport\u001b[0m \u001b[0mMainMenuFormu\u001b[0m \u001b[0;31m# Düzeltildi\u001b[0m\u001b[0;34m\u001b[0m\u001b[0;34m\u001b[0m\u001b[0m\n",
            "\u001b[0;31mModuleNotFoundError\u001b[0m: No module named 'gelistirmeler'",
            "",
            "\u001b[0;31m---------------------------------------------------------------------------\u001b[0;32m\nNOTE: If your import is failing due to a missing package, you can\nmanually install dependencies using either !pip or !apt.\n\nTo view examples of installing some common dependencies, click the\n\"Open Examples\" button below.\n\u001b[0;31m---------------------------------------------------------------------------\u001b[0m\n"
          ],
          "errorDetails": {
            "actions": [
              {
                "action": "open_url",
                "actionText": "Open Examples",
                "url": "/notebooks/snippets/importing_libraries.ipynb"
              }
            ]
          }
        }
      ],
      "execution_count": 1,
      "metadata": {
        "colab": {
          "base_uri": "https://localhost:8080/",
          "height": 395
        },
        "id": "JUSzrPWDlaFj",
        "outputId": "c077dcd4-8926-40a0-b5ca-71a9d10404ea"
      }
    },
    {
      "cell_type": "code",
      "source": [],
      "metadata": {
        "id": "HW95UZXvlvrX"
      },
      "execution_count": null,
      "outputs": []
    },
    {
      "cell_type": "markdown",
      "source": [],
      "metadata": {
        "id": "j-JSsxtllw4Z"
      }
    }
  ],
  "metadata": {
    "colab": {
      "provenance": [],
      "include_colab_link": true
    },
    "kernelspec": {
      "display_name": "Python 3",
      "name": "python3"
    }
  },
  "nbformat": 4,
  "nbformat_minor": 0
}